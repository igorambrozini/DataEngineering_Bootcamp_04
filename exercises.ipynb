{
 "cells": [
  {
   "cell_type": "markdown",
   "metadata": {},
   "source": [
    "Exercício 1: Verificação de Qualidade de Dados  \n",
    "Você está analisando um conjunto de dados de vendas e precisa garantir que todos os registros tenham valores positivos para quantidade e preço. Escreva um programa que verifique esses campos e imprima \"Dados válidos\" se ambos forem positivos ou \"Dados inválidos\" caso contrário."
   ]
  },
  {
   "cell_type": "code",
   "execution_count": 56,
   "metadata": {},
   "outputs": [
    {
     "name": "stdout",
     "output_type": "stream",
     "text": [
      "Dados válidos.\n"
     ]
    }
   ],
   "source": [
    "quantidade = 10\n",
    "preco = 20\n",
    "\n",
    "if quantidade > 0 and preco > 0:\n",
    "    print(\"Dados válidos.\")\n",
    "else:\n",
    "    print(\"Dados inválidos.\")"
   ]
  },
  {
   "cell_type": "markdown",
   "metadata": {},
   "source": [
    "Exercício 2: Classificação de Dados de Sensor  \n",
    "Imagine que você está trabalhando com dados de sensores IoT. Os dados incluem medições de temperatura. Você precisa classificar cada leitura como 'Baixa', 'Normal' ou 'Alta'. Considerando que:\n",
    "\n",
    "Temperatura < 18°C é 'Baixa'\n",
    "Temperatura >= 18°C e <= 26°C é 'Normal'\n",
    "Temperatura > 26°C é 'Alta'"
   ]
  },
  {
   "cell_type": "code",
   "execution_count": 57,
   "metadata": {},
   "outputs": [
    {
     "name": "stdout",
     "output_type": "stream",
     "text": [
      "Alta\n"
     ]
    }
   ],
   "source": [
    "temp = 22\n",
    "\n",
    "if temp < 18:\n",
    "    print(\"Baixa\")\n",
    "elif 18 >= temp <=26:\n",
    "    print(\"Média\")\n",
    "else:\n",
    "    print(\"Alta\")"
   ]
  },
  {
   "cell_type": "markdown",
   "metadata": {},
   "source": [
    "Exercício 3: Filtragem de Logs por Severidade  \n",
    "Você está analisando logs de uma aplicação e precisa filtrar mensagens com severidade 'ERROR'. Dado um registro de log em formato de dicionário como log = {'timestamp': '2021-06-23 10:00:00', 'level': 'ERROR', 'message': 'Falha na conexão'}, escreva um programa que imprima a mensagem se a severidade for 'ERROR'."
   ]
  },
  {
   "cell_type": "code",
   "execution_count": 58,
   "metadata": {},
   "outputs": [
    {
     "name": "stdout",
     "output_type": "stream",
     "text": [
      "Falha na conexão\n"
     ]
    }
   ],
   "source": [
    "log = {'timestamp': '2021-06-23 10:00:00', 'level': 'ERROR', 'message': 'Falha na conexão'}\n",
    "\n",
    "if log['level'] == 'ERROR':\n",
    "    print(log['message'])"
   ]
  },
  {
   "cell_type": "markdown",
   "metadata": {},
   "source": [
    "Exercício 4: Validação de Dados de Entrada  \n",
    "Antes de processar os dados de usuários em um sistema de recomendação, você precisa garantir que cada usuário tenha idade entre 18 e 65 anos e tenha fornecido um email válido. Escreva um programa que valide essas condições e imprima \"Dados de usuário válidos\" ou o erro específico encontrado."
   ]
  },
  {
   "cell_type": "code",
   "execution_count": 59,
   "metadata": {},
   "outputs": [
    {
     "name": "stdout",
     "output_type": "stream",
     "text": [
      "Dados do usuário válidos.\n"
     ]
    }
   ],
   "source": [
    "idade = 31\n",
    "email = 'usuario@exemplo.com'\n",
    "\n",
    "if not 18 <= idade <= 65:\n",
    "    print(\"Idade fora do intervalo permitido!\")\n",
    "elif \"@\" not in email or '.' not in email:\n",
    "    print(\"Email inválido!\")\n",
    "else:\n",
    "    print(\"Dados do usuário válidos.\")"
   ]
  },
  {
   "cell_type": "markdown",
   "metadata": {},
   "source": [
    "Exercício 5: Detecção de Anomalias em Dados de Transações  \n",
    "Você está trabalhando em um sistema de detecção de fraude e precisa identificar transações suspeitas. Uma transação é considerada suspeita se o valor for superior a R$ 10.000 ou se ocorrer fora do horário comercial (antes das 9h ou depois das 18h). Dada uma transação como transacao = {'valor': 12000, 'hora': 20}, verifique se ela é suspeita."
   ]
  },
  {
   "cell_type": "code",
   "execution_count": 60,
   "metadata": {},
   "outputs": [
    {
     "name": "stdout",
     "output_type": "stream",
     "text": [
      "Transacao suspeita!\n"
     ]
    }
   ],
   "source": [
    "transacao: dict = {\n",
    "    \"valor\":21000,\n",
    "    \"hora\":20\n",
    "}\n",
    "\n",
    "if transacao['valor'] > 10000 or transacao['hora'] < 9 or transacao['hora'] > 18:\n",
    "    print(\"Transacao suspeita!\")\n",
    "else:\n",
    "    print(\"Transação normal.\")"
   ]
  },
  {
   "cell_type": "markdown",
   "metadata": {},
   "source": [
    "6. Contagem de Palavras em Textos  \n",
    "Objetivo: Dado um texto, contar quantas vezes cada palavra única aparece nele.\n",
    "texto = \"a raposa marrom salta sobre o cachorro preguiçoso\""
   ]
  },
  {
   "cell_type": "code",
   "execution_count": 61,
   "metadata": {},
   "outputs": [
    {
     "name": "stdout",
     "output_type": "stream",
     "text": [
      "{'a': 1, 'raposa': 1, 'marrom': 1, 'salta': 1, 'sobre': 1, 'o': 1, 'cachorro': 1, 'preguiçoso': 1}\n"
     ]
    }
   ],
   "source": [
    "texto = \"a raposa marrom salta sobre o cachorro preguiçoso\"\n",
    "\n",
    "palavras = texto.split()\n",
    "contagem_palavras = {}\n",
    "\n",
    "for palavra in palavras:\n",
    "    if palavra in contagem_palavras: \n",
    "        contagem_palavras[palavra] += 1\n",
    "    else:\n",
    "        contagem_palavras[palavra] = 1\n",
    "\n",
    "print(contagem_palavras)"
   ]
  },
  {
   "cell_type": "markdown",
   "metadata": {},
   "source": [
    "7. Normalização de Dados  \n",
    "Objetivo: Normalizar uma lista de números para que fiquem na escala de 0 a 1."
   ]
  },
  {
   "cell_type": "code",
   "execution_count": 62,
   "metadata": {},
   "outputs": [
    {
     "name": "stdout",
     "output_type": "stream",
     "text": [
      "[0.0, 0.25, 0.5, 0.75, 1.0]\n"
     ]
    }
   ],
   "source": [
    "numeros = [10, 20, 30, 40, 50]\n",
    "\n",
    "minimo = min(numeros)\n",
    "maximo = max(numeros)\n",
    "\n",
    "normalizados = [(x - minimo) / (maximo - minimo) for x in numeros]\n",
    "\n",
    "print(normalizados)"
   ]
  },
  {
   "cell_type": "markdown",
   "metadata": {},
   "source": [
    "8. Filtragem de Dados Faltantes  \n",
    "Objetivo: Dada uma lista de dicionários representando dados de usuários, filtrar aqueles que têm um campo específico faltando."
   ]
  },
  {
   "cell_type": "code",
   "execution_count": 81,
   "metadata": {},
   "outputs": [
    {
     "name": "stdout",
     "output_type": "stream",
     "text": [
      "[{'nome': 'Alice', 'email': 'alice@example.com'}, {'nome': 'Carol', 'email': 'carol@example.com'}]\n"
     ]
    }
   ],
   "source": [
    "usuarios = [\n",
    "    {'nome':'Alice', 'email':'alice@example.com'},\n",
    "    {'nome':'Bob', 'email':''},\n",
    "    {'nome':'Carol', 'email':'carol@example.com'}    \n",
    "]\n",
    "\n",
    "usuarios_validos = [usuario for usuario in usuarios if usuario['email']]\n",
    "\n",
    "print(usuarios_validos)"
   ]
  },
  {
   "cell_type": "markdown",
   "metadata": {},
   "source": [
    "9. Extração de Subconjuntos de Dados  \n",
    "Objetivo: Dada uma lista de números, extrair apenas aqueles que são pares."
   ]
  },
  {
   "cell_type": "code",
   "execution_count": 86,
   "metadata": {},
   "outputs": [
    {
     "name": "stdout",
     "output_type": "stream",
     "text": [
      "[2, 4, 6, 8, 10]\n"
     ]
    }
   ],
   "source": [
    "numeros = range(1, 11)\n",
    "pares = [x for x in numeros if x % 2 == 0 ]\n",
    "\n",
    "print(pares)"
   ]
  },
  {
   "cell_type": "markdown",
   "metadata": {},
   "source": [
    "10. Agregação de Dados por Categoria  \n",
    "Objetivo: Dado um conjunto de registros de vendas, calcular o total de vendas por categoria."
   ]
  },
  {
   "cell_type": "code",
   "execution_count": 90,
   "metadata": {},
   "outputs": [
    {
     "name": "stdout",
     "output_type": "stream",
     "text": [
      "{'eletrônicos': 2000, 'livros': 200}\n"
     ]
    }
   ],
   "source": [
    "vendas = [\n",
    "    {'categoria':'eletrônicos', 'valor':1200},\n",
    "    {'categoria':'livros', 'valor':200},\n",
    "    {'categoria':'eletrônicos', 'valor':800}    \n",
    "]\n",
    "\n",
    "total_por_categoria = {}\n",
    "\n",
    "for venda in vendas:\n",
    "    categoria = venda['categoria']\n",
    "    valor = venda['valor']\n",
    "    if categoria in total_por_categoria:\n",
    "        total_por_categoria[categoria] += valor\n",
    "    else:\n",
    "        total_por_categoria[categoria] = valor\n",
    "        \n",
    "print(total_por_categoria)"
   ]
  },
  {
   "cell_type": "code",
   "execution_count": null,
   "metadata": {},
   "outputs": [],
   "source": []
  }
 ],
 "metadata": {
  "kernelspec": {
   "display_name": "Python 3",
   "language": "python",
   "name": "python3"
  },
  "language_info": {
   "codemirror_mode": {
    "name": "ipython",
    "version": 3
   },
   "file_extension": ".py",
   "mimetype": "text/x-python",
   "name": "python",
   "nbconvert_exporter": "python",
   "pygments_lexer": "ipython3",
   "version": "3.12.5"
  }
 },
 "nbformat": 4,
 "nbformat_minor": 2
}
