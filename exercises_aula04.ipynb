{
 "cells": [
  {
   "cell_type": "markdown",
   "metadata": {},
   "source": [
    "Exercício Tipagem: Tipar o último desafio"
   ]
  },
  {
   "cell_type": "code",
   "execution_count": 1,
   "metadata": {},
   "outputs": [
    {
     "name": "stdout",
     "output_type": "stream",
     "text": [
      "Nome válido: Jobs\n",
      "Jobs, seu salário é R$10000.00 e seu bônus final é R$21000.00.\n"
     ]
    }
   ],
   "source": [
    "# Inicializa as variáveis para o controle do loop\n",
    "nome_valido: bool = False\n",
    "salario_valido: bool = False\n",
    "bonus_valido: bool = False\n",
    "\n",
    "# Loop para verificar o nome\n",
    "while not nome_valido:\n",
    "    try:\n",
    "        nome: str = input(\"Digite seu nome: \")\n",
    "        if len(nome) == 0:\n",
    "            raise ValueError(\"O nome não pode estar vazio.\")\n",
    "        elif any(char.isdigit() for char in nome):\n",
    "            raise ValueError(\"O nome não deve conter números.\")\n",
    "        else:\n",
    "            print(\"Nome válido:\", nome)\n",
    "            nome_valido = True\n",
    "    except ValueError as e:\n",
    "        print(e)\n",
    "\n",
    "# Loop para verificar o salário\n",
    "while not salario_valido:\n",
    "    try:\n",
    "        salario: float = float(input(\"Digite o valor do seu salário: \"))\n",
    "        if salario < 0:\n",
    "            print(\"Por favor, digite um valor positivo para o salário.\")\n",
    "        else:\n",
    "            salario_valido = True\n",
    "    except ValueError:\n",
    "        print(\"Entrada inválida para o salário. Por favor, digite um número.\")\n",
    "\n",
    "# Loop para verificar o bônus\n",
    "while not bonus_valido:\n",
    "    try:\n",
    "        bonus: float = float(input(\"Digite o valor do bônus recebido: \"))\n",
    "        if bonus < 0:\n",
    "            print(\"Por favor, digite um valor positivo para o bônus.\")\n",
    "        else:\n",
    "            bonus_valido = True\n",
    "    except ValueError:\n",
    "        print(\"Entrada inválida para o bônus. Por favor, digite um número.\")\n",
    "\n",
    "bonus_recebido: float = 1000.00 + (salario * bonus/1000)  # Exemplo simples de cálculo de bônus\n",
    "\n",
    "# Imprime as informações para o usuário\n",
    "print(f\"{nome}, seu salário é R${salario:.2f} e seu bônus final é R${bonus_recebido:.2f}.\")"
   ]
  },
  {
   "cell_type": "markdown",
   "metadata": {},
   "source": [
    "1.Crie uma lista com os números de 1 a 10 e use um loop para imprimir cada número elevado ao quadrado."
   ]
  },
  {
   "cell_type": "code",
   "execution_count": 11,
   "metadata": {},
   "outputs": [
    {
     "name": "stdout",
     "output_type": "stream",
     "text": [
      "1\n",
      "4\n",
      "9\n",
      "16\n",
      "25\n",
      "36\n",
      "49\n",
      "64\n",
      "81\n",
      "100\n"
     ]
    }
   ],
   "source": [
    "numeros = list(range(1,11))\n",
    "\n",
    "for quadrado in numeros:\n",
    "    print(quadrado**2)"
   ]
  },
  {
   "cell_type": "markdown",
   "metadata": {},
   "source": [
    "2. Modificar lista de linguagens"
   ]
  },
  {
   "cell_type": "code",
   "execution_count": 13,
   "metadata": {},
   "outputs": [
    {
     "name": "stdout",
     "output_type": "stream",
     "text": [
      "['Python', 'Java', 'JavaScript', 'Ruby']\n"
     ]
    }
   ],
   "source": [
    "linguagens = [\"Python\", \"Java\", \"C++\", \"JavaScript\"]\n",
    "\n",
    "linguagens.remove(linguagens[2]) # ou linguagens.remove(\"C++\")\n",
    "linguagens.append(\"Ruby\")\n",
    "\n",
    "print(linguagens)"
   ]
  },
  {
   "cell_type": "markdown",
   "metadata": {},
   "source": [
    "3. Informações de um livro"
   ]
  },
  {
   "cell_type": "code",
   "execution_count": 16,
   "metadata": {},
   "outputs": [
    {
     "name": "stdout",
     "output_type": "stream",
     "text": [
      "titulo: 1984\n",
      "autor: George Orwell\n",
      "ano: 1949\n"
     ]
    }
   ],
   "source": [
    "livro = {\"titulo\": \"1984\", \"autor\": \"George Orwell\", \"ano\": 1949}\n",
    "\n",
    "for chave, valor in livro.items():\n",
    "    print(f\"{chave}: {valor}\")"
   ]
  },
  {
   "cell_type": "markdown",
   "metadata": {},
   "source": [
    "4. Contar ocorrências de caracteres"
   ]
  },
  {
   "cell_type": "code",
   "execution_count": 19,
   "metadata": {},
   "outputs": [
    {
     "name": "stdout",
     "output_type": "stream",
     "text": [
      "{'d': 1, 'a': 2, 't': 1, ' ': 1, 'e': 3, 'n': 3, 'g': 2, 'i': 2, 'r': 1}\n"
     ]
    }
   ],
   "source": [
    "def contar_caracteres(s):\n",
    "    contagem = {}\n",
    "    for caractere in s:\n",
    "        contagem[caractere] = contagem.get(caractere, 0) + 1\n",
    "    return contagem\n",
    "\n",
    "print(contar_caracteres(\"data engineering\"))"
   ]
  },
  {
   "cell_type": "markdown",
   "metadata": {},
   "source": [
    "5. Preço total da lista de compras"
   ]
  },
  {
   "cell_type": "code",
   "execution_count": 22,
   "metadata": {},
   "outputs": [
    {
     "name": "stdout",
     "output_type": "stream",
     "text": [
      "Preço total: 1.4\n"
     ]
    }
   ],
   "source": [
    "lista_compras = [\"maçã\", \"banana\", \"cereja\"]\n",
    "precos = {\"maçã\":0.45, \"banana\":0.30, \"cereja\":0.65}\n",
    "total = sum(precos[item] for item in lista_compras)\n",
    "print(f\"Preço total: {total}\")"
   ]
  },
  {
   "cell_type": "markdown",
   "metadata": {},
   "source": [
    "6. Eliminação de Duplicatas  \n",
    "Objetivo: Dada uma lista de emails, remover todos os duplicados."
   ]
  },
  {
   "cell_type": "code",
   "execution_count": 1,
   "metadata": {},
   "outputs": [
    {
     "name": "stdout",
     "output_type": "stream",
     "text": [
      "['admin@example.com', 'manager@example.com', 'user@example.com']\n"
     ]
    }
   ],
   "source": [
    "emails = [\"user@example.com\", \"admin@example.com\", \"user@example.com\", \"manager@example.com\"]\n",
    "\n",
    "emails_unicos = list(set(emails))\n",
    "\n",
    "print (emails_unicos)"
   ]
  },
  {
   "cell_type": "markdown",
   "metadata": {},
   "source": [
    "7. Filtragem de Dados  \n",
    "Objetivo: Dada uma lista de idades, filtrar apenas aquelas que são maiores ou iguais a 18."
   ]
  },
  {
   "cell_type": "code",
   "execution_count": 2,
   "metadata": {},
   "outputs": [
    {
     "name": "stdout",
     "output_type": "stream",
     "text": [
      "[22, 30, 18]\n"
     ]
    }
   ],
   "source": [
    "idades = [22, 15, 30, 17, 18]\n",
    "\n",
    "idades_validas = [idade for idade in idades if idade >= 18]\n",
    "\n",
    "print(idades_validas)"
   ]
  },
  {
   "cell_type": "markdown",
   "metadata": {},
   "source": [
    "8. Ordenação Personalizada  \n",
    "Objetivo: Dada uma lista de dicionários representando pessoas, ordená-las pelo nome."
   ]
  },
  {
   "cell_type": "code",
   "execution_count": 4,
   "metadata": {},
   "outputs": [
    {
     "name": "stdout",
     "output_type": "stream",
     "text": [
      "[{'nome': 'Alice', 'idade': 30}, {'nome': 'Bob', 'idade': 25}, {'nome': 'Carol', 'idade': 20}]\n"
     ]
    }
   ],
   "source": [
    "pessoas = [\n",
    "    {\"nome\": \"Alice\", \"idade\": 30},\n",
    "    {\"nome\": \"Carol\", \"idade\": 20},\n",
    "    {\"nome\": \"Bob\", \"idade\": 25}\n",
    "]\n",
    "\n",
    "pessoas.sort(key=lambda pessoa: pessoa['nome'])\n",
    "\n",
    "print(pessoas)"
   ]
  },
  {
   "cell_type": "markdown",
   "metadata": {},
   "source": [
    "9. Agregação de Dados  \n",
    "Objetivo: Dado um conjunto de números, calcular a média."
   ]
  },
  {
   "cell_type": "code",
   "execution_count": 10,
   "metadata": {},
   "outputs": [
    {
     "name": "stdout",
     "output_type": "stream",
     "text": [
      "Média:  30.0\n"
     ]
    }
   ],
   "source": [
    "numeros = [10, 20, 30, 40, 50]\n",
    "\n",
    "media = sum(numeros) / len(numeros)\n",
    "\n",
    "print (\"Média: \", media)"
   ]
  },
  {
   "cell_type": "markdown",
   "metadata": {},
   "source": [
    "10. Divisão de Dados em Grupos  \n",
    "Objetivo: Dada uma lista de valores, dividir em duas listas: uma para valores pares e outra para ímpares."
   ]
  },
  {
   "cell_type": "code",
   "execution_count": 11,
   "metadata": {},
   "outputs": [
    {
     "name": "stdout",
     "output_type": "stream",
     "text": [
      "Valores ímpares: [1, 3, 5, 7, 9]\n",
      "\n",
      "Valores pares: [2, 4, 6, 8, 10]\n"
     ]
    }
   ],
   "source": [
    "valores = [1, 2, 3, 4, 5, 6, 7, 8, 9, 10]\n",
    "\n",
    "valores_impares = [value for value in valores if value % 2 != 0]\n",
    "valores_pares = [value for value in valores if value % 2 == 0]\n",
    "\n",
    "print(\"Valores ímpares:\", valores_impares)\n",
    "print(\"\\nValores pares:\", valores_pares)"
   ]
  },
  {
   "cell_type": "markdown",
   "metadata": {},
   "source": [
    "Exercícios com Dicionários\n",
    "\n",
    "11. Atualização de Dados  \n",
    "Objetivo: Dada uma lista de dicionários representando produtos, atualizar o preço de um produto específico."
   ]
  },
  {
   "cell_type": "code",
   "execution_count": 21,
   "metadata": {},
   "outputs": [
    {
     "name": "stdout",
     "output_type": "stream",
     "text": [
      "Relação de Produtos:  [{'id': 1, 'nome': 'Teclado', 'preço': 100}, {'id': 2, 'nome': 'Mouse', 'preço': 80}, {'id': 3, 'nome': 'Monitor', 'preço': 300}]\n",
      "Relação de Produtos atualizada:  [{'id': 1, 'nome': 'Teclado', 'preço': 35}, {'id': 2, 'nome': 'Mouse', 'preço': 80}, {'id': 3, 'nome': 'Monitor', 'preço': 300}]\n"
     ]
    }
   ],
   "source": [
    "produtos = [\n",
    "    {\"id\": 1, \"nome\": \"Teclado\", \"preço\": 100},\n",
    "    {\"id\": 2, \"nome\": \"Mouse\", \"preço\": 80},\n",
    "    {\"id\": 3, \"nome\": \"Monitor\", \"preço\": 300}\n",
    "]\n",
    "\n",
    "# Atualizar o preço do produto com id 1 para 35\n",
    "\n",
    "print(\"Relação de Produtos: \", produtos)\n",
    "info_id = int(input(\"\\nEscolha o ID do produto: \"))\n",
    "novo_valor = int(input(\"\\nInforme o novo valor do produto: \"))\n",
    "\n",
    "for produto in produtos:\n",
    "    if produto[\"id\"] == info_id:\n",
    "        produto[\"preço\"] = novo_valor\n",
    "\n",
    "print(\"Relação de Produtos atualizada: \", produtos)\n"
   ]
  },
  {
   "cell_type": "markdown",
   "metadata": {},
   "source": [
    "12. Fusão de Dicionários  \n",
    "Objetivo: Dados dois dicionários, fundi-los em um único dicionário."
   ]
  },
  {
   "cell_type": "code",
   "execution_count": 32,
   "metadata": {},
   "outputs": [
    {
     "name": "stdout",
     "output_type": "stream",
     "text": [
      "{'a': 1, 'b': 2, 'c': 3, 'd': 4}\n"
     ]
    }
   ],
   "source": [
    "dicionario1 = {\"a\": 1, \"b\": 2}\n",
    "dicionario2 = {\"c\": 3, \"d\": 4}\n",
    "\n",
    "dicionario_fusao = dict(dicionario1, **dicionario2)\n",
    "\n",
    "print(dicionario_fusao)"
   ]
  },
  {
   "cell_type": "markdown",
   "metadata": {},
   "source": [
    "13. Filtragem de Dados em Dicionário  \n",
    "Objetivo: Dado um dicionário de estoque de produtos, filtrar aqueles com quantidade maior que 0."
   ]
  },
  {
   "cell_type": "code",
   "execution_count": 33,
   "metadata": {},
   "outputs": [
    {
     "name": "stdout",
     "output_type": "stream",
     "text": [
      "{'Teclado': 10, 'Monitor': 3}\n"
     ]
    }
   ],
   "source": [
    "estoque = {\"Teclado\": 10, \"Mouse\": 0, \"Monitor\": 3, \"CPU\": 0}\n",
    "\n",
    "estoque_positivo = {produto: quantidade for produto, quantidade in estoque.items() if quantidade > 0}\n",
    "\n",
    "print(estoque_positivo)"
   ]
  },
  {
   "cell_type": "markdown",
   "metadata": {},
   "source": [
    "14. Extração de Chaves e Valores\n",
    "Objetivo: Dado um dicionário, criar listas separadas para suas chaves e valores."
   ]
  },
  {
   "cell_type": "code",
   "execution_count": 35,
   "metadata": {},
   "outputs": [
    {
     "name": "stdout",
     "output_type": "stream",
     "text": [
      "Chaves:  ['a', 'b', 'c']\n",
      "Valores:  [1, 2, 3]\n"
     ]
    }
   ],
   "source": [
    "dicionario = {\"a\": 1, \"b\": 2, \"c\": 3}\n",
    "chaves = list(dicionario.keys())\n",
    "valores = list(dicionario.values())\n",
    "\n",
    "print(\"Chaves: \", chaves)\n",
    "print(\"Valores: \", valores)"
   ]
  },
  {
   "cell_type": "markdown",
   "metadata": {},
   "source": [
    "15. Contagem de Frequência de Itens  \n",
    "Objetivo: Dada uma string, contar a frequência de cada caractere usando um dicionário."
   ]
  },
  {
   "cell_type": "code",
   "execution_count": 41,
   "metadata": {},
   "outputs": [
    {
     "name": "stdout",
     "output_type": "stream",
     "text": [
      "{'d': 1, 'a': 2, 't': 1, ' ': 1, 'e': 3, 'n': 3, 'g': 2, 'i': 2, 'r': 1}\n"
     ]
    }
   ],
   "source": [
    "texto = \"data engineering\"\n",
    "frequencia = {}\n",
    "\n",
    "for caractere in texto:\n",
    "    if caractere in frequencia:\n",
    "        frequencia[caractere] += 1\n",
    "    else:\n",
    "        frequencia[caractere] = 1\n",
    "\n",
    "print(frequencia)"
   ]
  }
 ],
 "metadata": {
  "kernelspec": {
   "display_name": "Python 3",
   "language": "python",
   "name": "python3"
  },
  "language_info": {
   "codemirror_mode": {
    "name": "ipython",
    "version": 3
   },
   "file_extension": ".py",
   "mimetype": "text/x-python",
   "name": "python",
   "nbconvert_exporter": "python",
   "pygments_lexer": "ipython3",
   "version": "3.12.5"
  }
 },
 "nbformat": 4,
 "nbformat_minor": 2
}
