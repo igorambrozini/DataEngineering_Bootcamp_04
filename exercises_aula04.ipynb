{
 "cells": [
  {
   "cell_type": "markdown",
   "metadata": {},
   "source": [
    "Exercício Tipagem: Tipar o último desafio"
   ]
  },
  {
   "cell_type": "code",
   "execution_count": 1,
   "metadata": {},
   "outputs": [
    {
     "name": "stdout",
     "output_type": "stream",
     "text": [
      "Nome válido: Jobs\n",
      "Jobs, seu salário é R$10000.00 e seu bônus final é R$21000.00.\n"
     ]
    }
   ],
   "source": [
    "# Inicializa as variáveis para o controle do loop\n",
    "nome_valido: bool = False\n",
    "salario_valido: bool = False\n",
    "bonus_valido: bool = False\n",
    "\n",
    "# Loop para verificar o nome\n",
    "while not nome_valido:\n",
    "    try:\n",
    "        nome: str = input(\"Digite seu nome: \")\n",
    "        if len(nome) == 0:\n",
    "            raise ValueError(\"O nome não pode estar vazio.\")\n",
    "        elif any(char.isdigit() for char in nome):\n",
    "            raise ValueError(\"O nome não deve conter números.\")\n",
    "        else:\n",
    "            print(\"Nome válido:\", nome)\n",
    "            nome_valido = True\n",
    "    except ValueError as e:\n",
    "        print(e)\n",
    "\n",
    "# Loop para verificar o salário\n",
    "while not salario_valido:\n",
    "    try:\n",
    "        salario: float = float(input(\"Digite o valor do seu salário: \"))\n",
    "        if salario < 0:\n",
    "            print(\"Por favor, digite um valor positivo para o salário.\")\n",
    "        else:\n",
    "            salario_valido = True\n",
    "    except ValueError:\n",
    "        print(\"Entrada inválida para o salário. Por favor, digite um número.\")\n",
    "\n",
    "# Loop para verificar o bônus\n",
    "while not bonus_valido:\n",
    "    try:\n",
    "        bonus: float = float(input(\"Digite o valor do bônus recebido: \"))\n",
    "        if bonus < 0:\n",
    "            print(\"Por favor, digite um valor positivo para o bônus.\")\n",
    "        else:\n",
    "            bonus_valido = True\n",
    "    except ValueError:\n",
    "        print(\"Entrada inválida para o bônus. Por favor, digite um número.\")\n",
    "\n",
    "bonus_recebido: float = 1000.00 + (salario * bonus/1000)  # Exemplo simples de cálculo de bônus\n",
    "\n",
    "# Imprime as informações para o usuário\n",
    "print(f\"{nome}, seu salário é R${salario:.2f} e seu bônus final é R${bonus_recebido:.2f}.\")"
   ]
  },
  {
   "cell_type": "markdown",
   "metadata": {},
   "source": [
    "1.Crie uma lista com os números de 1 a 10 e use um loop para imprimir cada número elevado ao quadrado."
   ]
  },
  {
   "cell_type": "code",
   "execution_count": 11,
   "metadata": {},
   "outputs": [
    {
     "name": "stdout",
     "output_type": "stream",
     "text": [
      "1\n",
      "4\n",
      "9\n",
      "16\n",
      "25\n",
      "36\n",
      "49\n",
      "64\n",
      "81\n",
      "100\n"
     ]
    }
   ],
   "source": [
    "numeros = list(range(1,11))\n",
    "\n",
    "for quadrado in numeros:\n",
    "    print(quadrado**2)"
   ]
  },
  {
   "cell_type": "markdown",
   "metadata": {},
   "source": [
    "2. Modificar lista de linguagens"
   ]
  },
  {
   "cell_type": "code",
   "execution_count": 13,
   "metadata": {},
   "outputs": [
    {
     "name": "stdout",
     "output_type": "stream",
     "text": [
      "['Python', 'Java', 'JavaScript', 'Ruby']\n"
     ]
    }
   ],
   "source": [
    "linguagens = [\"Python\", \"Java\", \"C++\", \"JavaScript\"]\n",
    "\n",
    "linguagens.remove(linguagens[2]) # ou linguagens.remove(\"C++\")\n",
    "linguagens.append(\"Ruby\")\n",
    "\n",
    "print(linguagens)"
   ]
  },
  {
   "cell_type": "markdown",
   "metadata": {},
   "source": [
    "3. Informações de um livro"
   ]
  },
  {
   "cell_type": "code",
   "execution_count": 16,
   "metadata": {},
   "outputs": [
    {
     "name": "stdout",
     "output_type": "stream",
     "text": [
      "titulo: 1984\n",
      "autor: George Orwell\n",
      "ano: 1949\n"
     ]
    }
   ],
   "source": [
    "livro = {\"titulo\": \"1984\", \"autor\": \"George Orwell\", \"ano\": 1949}\n",
    "\n",
    "for chave, valor in livro.items():\n",
    "    print(f\"{chave}: {valor}\")"
   ]
  },
  {
   "cell_type": "markdown",
   "metadata": {},
   "source": [
    "4. Contar ocorrências de caracteres"
   ]
  },
  {
   "cell_type": "code",
   "execution_count": 19,
   "metadata": {},
   "outputs": [
    {
     "name": "stdout",
     "output_type": "stream",
     "text": [
      "{'d': 1, 'a': 2, 't': 1, ' ': 1, 'e': 3, 'n': 3, 'g': 2, 'i': 2, 'r': 1}\n"
     ]
    }
   ],
   "source": [
    "def contar_caracteres(s):\n",
    "    contagem = {}\n",
    "    for caractere in s:\n",
    "        contagem[caractere] = contagem.get(caractere, 0) + 1\n",
    "    return contagem\n",
    "\n",
    "print(contar_caracteres(\"data engineering\"))"
   ]
  },
  {
   "cell_type": "markdown",
   "metadata": {},
   "source": [
    "5. Preço total da lista de compras"
   ]
  },
  {
   "cell_type": "code",
   "execution_count": 22,
   "metadata": {},
   "outputs": [
    {
     "name": "stdout",
     "output_type": "stream",
     "text": [
      "Preço total: 1.4\n"
     ]
    }
   ],
   "source": [
    "lista_compras = [\"maçã\", \"banana\", \"cereja\"]\n",
    "precos = {\"maçã\":0.45, \"banana\":0.30, \"cereja\":0.65}\n",
    "total = sum(precos[item] for item in lista_compras)\n",
    "print(f\"Preço total: {total}\")"
   ]
  },
  {
   "cell_type": "code",
   "execution_count": null,
   "metadata": {},
   "outputs": [],
   "source": []
  }
 ],
 "metadata": {
  "kernelspec": {
   "display_name": "Python 3",
   "language": "python",
   "name": "python3"
  },
  "language_info": {
   "codemirror_mode": {
    "name": "ipython",
    "version": 3
   },
   "file_extension": ".py",
   "mimetype": "text/x-python",
   "name": "python",
   "nbconvert_exporter": "python",
   "pygments_lexer": "ipython3",
   "version": "3.12.5"
  }
 },
 "nbformat": 4,
 "nbformat_minor": 2
}
